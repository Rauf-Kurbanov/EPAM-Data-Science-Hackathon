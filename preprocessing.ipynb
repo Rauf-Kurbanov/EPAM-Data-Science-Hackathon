{
 "cells": [
  {
   "cell_type": "markdown",
   "metadata": {},
   "source": [
    "# EPAM"
   ]
  },
  {
   "cell_type": "code",
   "execution_count": 1,
   "metadata": {},
   "outputs": [],
   "source": [
    "import re\n",
    "import copy\n",
    "import warnings\n",
    "import pandas as pd\n",
    "\n",
    "from tqdm import tqdm\n",
    "from lazy import lazy\n",
    "from bs4 import BeautifulSoup\n",
    "from difflib import SequenceMatcher\n",
    "from IPython.core.display import HTML\n",
    "from sklearn.base import BaseEstimator, TransformerMixin"
   ]
  },
  {
   "cell_type": "code",
   "execution_count": 2,
   "metadata": {},
   "outputs": [],
   "source": [
    "posts_file = 'NLP_dataset_final/Posts.csv'"
   ]
  },
  {
   "cell_type": "code",
   "execution_count": 3,
   "metadata": {},
   "outputs": [
    {
     "name": "stdout",
     "output_type": "stream",
     "text": [
      "CPU times: user 12.4 s, sys: 1.07 s, total: 13.5 s\n",
      "Wall time: 13.9 s\n"
     ]
    },
    {
     "name": "stderr",
     "output_type": "stream",
     "text": [
      "<string>:2: DtypeWarning: Columns (3,18,19) have mixed types. Specify dtype option on import or set low_memory=False.\n"
     ]
    }
   ],
   "source": [
    "%time posts_df = pd.read_csv(posts_file, encoding='ISO-8859-1')"
   ]
  },
  {
   "cell_type": "code",
   "execution_count": null,
   "metadata": {},
   "outputs": [],
   "source": [
    "#         before_cnum = self.text[:pos].split().count(self.code_replacer)\n",
    "#         answer = self.text[pos: pos + len_]\n",
    "#        \n",
    "#         parts = []\n",
    "#         for pans in answer.split():\n",
    "#             if pans == self.code_replacer:\n",
    "#                 parts.append(self._codes[before_cnum])\n",
    "#                 before_cnum += 1\n",
    "#             else:\n",
    "#                 parts.append(pans)\n",
    "#         answer = ' '.join(parts)\n",
    "#        \n",
    "#         node = self._find_node(self._soup, answer)\n",
    "#         return str(node if node is not None else self._soup)\n",
    "\n",
    "#     def _find_node(self, node, text):\n",
    "#         score = self._cmp(node.get_text(), text)\n",
    "#         if score > self.treshold:\n",
    "#             return node\n",
    "#         else:\n",
    "#             for child in node.findChildren():\n",
    "#                 ret = self._find_node(child, text)\n",
    "#                 if ret is not None: return ret\n",
    "#             return None\n",
    "\n",
    "#     @staticmethod\n",
    "#     def _cmp(s1, s2):\n",
    "#         return SequenceMatcher(None, s1, s2).ratio()\n",
    "\n",
    "# def _hightlight(self, node, texts):\n",
    "#         pattern = re.compile(r'\\b(' + '|'.join(texts) + r')\\b')\n",
    "#         text_to_rep = re.sub(pattern, r\"<span class=“highlight”>\\1</span>\", node.text)\n",
    "#         if node.text != text_to_rep:\n",
    "#             print(text_to_rep)\n",
    "#             node.replaceWith(text_to_rep)\n",
    "#             return -1\n",
    "#         for child in node.findChildren():\n",
    "#             if self._hightlight(child, texts) == -1:\n",
    "#                 return -1"
   ]
  },
  {
   "cell_type": "code",
   "execution_count": 165,
   "metadata": {},
   "outputs": [],
   "source": [
    "class Extractor:\n",
    "    def __init__(self, raw_text, delete_code=True, code_replacer='CODE', \n",
    "                 delete_r=True, treshold=0.9):\n",
    "        self.raw_text = raw_text\n",
    "        self.delete_code = delete_code\n",
    "        self.code_replacer = code_replacer\n",
    "        self.delete_r = delete_r\n",
    "        self.treshold = treshold\n",
    "    \n",
    "    @lazy\n",
    "    def text(self):\n",
    "        text = self._replace_unescape(self.raw_text)\n",
    "        self._soup = BeautifulSoup(text, 'lxml')\n",
    "        \n",
    "        self._codes = []\n",
    "        new_soup = copy.copy(self._soup)\n",
    "        self._change_code(new_soup)\n",
    "        \n",
    "        text = str(new_soup.get_text())\n",
    "        return text.replace('\\r', '') if self.delete_r else text\n",
    "    \n",
    "    def highlight(self, pos, len_):\n",
    "        # `Split('CODE')`\n",
    "        answer = self.text[pos: pos + len_]\n",
    "        full, parts = [], []\n",
    "        for pans in answer.split():\n",
    "            if pans != self.code_replacer:\n",
    "                parts.append(pans)\n",
    "            else:\n",
    "                if len(parts):\n",
    "                    full.append(' '.join(parts))\n",
    "                    parts = []\n",
    "        if len(parts):\n",
    "            full.append(' '.join(parts))\n",
    "            parts = []\n",
    "        \n",
    "        pattern = re.compile(r'\\b(' + '|'.join(full) + r')\\b')\n",
    "        return re.sub(pattern, r\"<span class=“highlight”>\\1</span>\", str(self._soup))\n",
    "    \n",
    "    def _change_code(self, tag):\n",
    "        for child in tag.findChildren():\n",
    "            if child.name == 'code':\n",
    "                code = child.text\n",
    "                self._codes.append(code)\n",
    "                if self.delete_code: child.replaceWith(self.code_replacer)\n",
    "    \n",
    "    @staticmethod\n",
    "    def _replace_unescape(text, unescape_dict={'&lt;': '<', '&gt;': '>', '&amp;': '&'}):\n",
    "        def round_(text):\n",
    "            for k, v in unescape_dict.items():\n",
    "                text = text.replace(k, v)\n",
    "            return text\n",
    "        \n",
    "        old_text, text = text, round_(text)\n",
    "        while old_text != text:\n",
    "            old_text, text = text, round_(text)\n",
    "\n",
    "        return text\n",
    "\n",
    "\n",
    "class Preprocessor(BaseEstimator):\n",
    "    def __init__(self):\n",
    "        # Switch warning off for `bs4`.\n",
    "        warnings.filterwarnings(\"ignore\", category=UserWarning, module='bs4')\n",
    "    \n",
    "    def transform(self, X):\n",
    "        return [Extractor(x).text for x in X]"
   ]
  },
  {
   "cell_type": "code",
   "execution_count": 169,
   "metadata": {},
   "outputs": [
    {
     "data": {
      "text/plain": [
       "'<p>Consider the following classes:</p>\\r\\r\\r\\r\\n\\r\\r\\r\\r\\n<pre><code>@Entity\\r\\r\\r\\r\\npublic class MyDomain{\\r\\r\\r\\r\\n\\r\\r\\r\\r\\n    @Id\\r\\r\\r\\r\\n    @GeneratedValue(strategy = GenerationType.AUTO)\\r\\r\\r\\r\\n    private Long id;\\r\\r\\r\\r\\n\\r\\r\\r\\r\\n    @OneToOne\\r\\r\\r\\r\\n    private AnotherDomain anotherDomain;\\r\\r\\r\\r\\n\\r\\r\\r\\r\\n    //getters and setters here\\r\\r\\r\\r\\n}\\r\\r\\r\\r\\n</code></pre>\\r\\r\\r\\r\\n\\r\\r\\r\\r\\n<hr>\\r\\r\\r\\r\\n\\r\\r\\r\\r\\n<pre><code>@Repository\\r\\r\\r\\r\\npublic MyDomainDao extends DaoBase&lt;MyDomain&gt;{\\r\\r\\r\\r\\n\\r\\r\\r\\r\\n    public List&lt;MyDomain&gt; doSomething(AnotherDomain parameter){\\r\\r\\r\\r\\n        //code does something here\\r\\r\\r\\r\\n    }\\r\\r\\r\\r\\n\\r\\r\\r\\r\\n}\\r\\r\\r\\r\\n</code></pre>\\r\\r\\r\\r\\n\\r\\r\\r\\r\\n<hr>\\r\\r\\r\\r\\n\\r\\r\\r\\r\\n<pre><code>public class DaoBase&lt;I&gt;{\\r\\r\\r\\r\\n\\r\\r\\r\\r\\n    @Autowired\\r\\r\\r\\r\\n    private SessionFactory sessionFactory;\\r\\r\\r\\r\\n\\r\\r\\r\\r\\n    public void save(I object){\\r\\r\\r\\r\\n        sessionFactory.getCurrentSession().saveOrUpdate(object);\\r\\r\\r\\r\\n    }\\r\\r\\r\\r\\n}\\r\\r\\r\\r\\n</code></pre>\\r\\r\\r\\r\\n\\r\\r\\r\\r\\n<hr>\\r\\r\\r\\r\\n\\r\\r\\r\\r\\n<pre><code>@RunWith(SpringJUnit4ClassRunner.class)\\r\\r\\r\\r\\n@ContextConfiguration({\"classpath:context.xml\"})\\r\\r\\r\\r\\n@Transactional(propagation = Propagation.REQUIRED)\\r\\r\\r\\r\\n@TransactionConfiguration(transactionManager = \"transactionManager\", defaultRollback = true)\\r\\r\\r\\r\\npublic class MyDomainDaoTest {\\r\\r\\r\\r\\n\\r\\r\\r\\r\\n    @Autowired\\r\\r\\r\\r\\n    private MyDomainDao dao;    \\r\\r\\r\\r\\n\\r\\r\\r\\r\\n    @Mock\\r\\r\\r\\r\\n    private AnotherDomain anotherDomain;\\r\\r\\r\\r\\n\\r\\r\\r\\r\\n    @Before\\r\\r\\r\\r\\n    public void setUp() {\\r\\r\\r\\r\\n        this.setupListOfMyDomain();\\r\\r\\r\\r\\n    }\\r\\r\\r\\r\\n\\r\\r\\r\\r\\n    @Test\\r\\r\\r\\r\\n    public void testDoSomething(){\\r\\r\\r\\r\\n        //test the method here\\r\\r\\r\\r\\n    }\\r\\r\\r\\r\\n\\r\\r\\r\\r\\n    private void setupListOfMyDomain(){\\r\\r\\r\\r\\n        MyDomain domain = null;     \\r\\r\\r\\r\\n\\r\\r\\r\\r\\n        //five rows of MyDomain\\r\\r\\r\\r\\n        for(int i=0; i&lt;=4; i++){\\r\\r\\r\\r\\n            domain = new MyDomain();\\r\\r\\r\\r\\n            domain.setAnotherDomain(anotherDomain);\\r\\r\\r\\r\\n            dao.save(domain);\\r\\r\\r\\r\\n        }       \\r\\r\\r\\r\\n    }\\r\\r\\r\\r\\n}\\r\\r\\r\\r\\n</code></pre>\\r\\r\\r\\r\\n\\r\\r\\r\\r\\n<p>To summarize, I have a simple entity class (<code>MyDomain</code>) and a domain dao (<code>MyDomainDao</code>) that extends from the super class <code>DaoBase</code>.  It is in this super class where the session for the persistence is called and it is also the responsibility of this super class to save/update/delete the entity class.  By virtue of inheritance, subclasses only has to define child-specific methods.</p>\\r\\r\\r\\r\\n\\r\\r\\r\\r\\n<p>The problem begins when I run the unit/integration test <code>MyDomainDaoTest</code>.  I wanted to test that the method <code>doSomething()</code> defined in <code>MyDomainDao</code>.  In order to do that, I need to five test rows in the database (I am using HSQLDB in-memory), thus the loop in the method <code>setupListOfMyDomain()</code>.  What is strange about the loop is that I get this error on the second iteration:</p>\\r\\r\\r\\r\\n\\r\\r\\r\\r\\n<pre>\\r\\r\\r\\r\\nERROR JDBCExceptionReporter - integrity constraint violation: unique constraint or index violation; SYS_CT_10231 table: MyDomain \\r\\r\\r\\r\\n</pre>\\r\\r\\r\\r\\n\\r\\r\\r\\r\\n<p>It cannot get any cryptic than that.  I know that an ID is generated on the first iteration. Why am I getting an integrity constraint violation for the succeeding iteration if I am trying to persist another object?</p>\\r\\r\\r\\r\\n'"
      ]
     },
     "execution_count": 169,
     "metadata": {},
     "output_type": "execute_result"
    }
   ],
   "source": [
    "sample = posts_df.Body[1488]\n",
    "sample"
   ]
  },
  {
   "cell_type": "code",
   "execution_count": 170,
   "metadata": {},
   "outputs": [
    {
     "data": {
      "text/plain": [
       "'Consider the following classes:\\nCODE\\n\\nCODE\\n\\nCODE\\n\\nCODE\\nTo summarize, I have a simple entity class (CODE) and a domain dao (CODE) that extends from the super class CODE.  It is in this super class where the session for the persistence is called and it is also the responsibility of this super class to save/update/delete the entity class.  By virtue of inheritance, subclasses only has to define child-specific methods.\\nThe problem begins when I run the unit/integration test CODE.  I wanted to test that the method CODE defined in CODE.  In order to do that, I need to five test rows in the database (I am using HSQLDB in-memory), thus the loop in the method CODE.  What is strange about the loop is that I get this error on the second iteration:\\n\\nERROR JDBCExceptionReporter - integrity constraint violation: unique constraint or index violation; SYS_CT_10231 table: MyDomain \\n\\nIt cannot get any cryptic than that.  I know that an ID is generated on the first iteration. Why am I getting an integrity constraint violation for the succeeding iteration if I am trying to persist another object?\\n'"
      ]
     },
     "execution_count": 170,
     "metadata": {},
     "output_type": "execute_result"
    }
   ],
   "source": [
    "Extractor(sample).text"
   ]
  },
  {
   "cell_type": "code",
   "execution_count": 168,
   "metadata": {},
   "outputs": [
    {
     "data": {
      "text/plain": [
       "'double quotes'"
      ]
     },
     "execution_count": 168,
     "metadata": {},
     "output_type": "execute_result"
    }
   ],
   "source": [
    "Extractor(sample).text[152: 152 + 13]  # answer='double quotes'"
   ]
  },
  {
   "cell_type": "code",
   "execution_count": 148,
   "metadata": {},
   "outputs": [
    {
     "data": {
      "text/plain": [
       "'<html><body><p>The below code:</p>\\n<pre><code>public void insertNewStudent(int id, String pass, String fname, String lname, String   street, String city, String state, int Zip, String Email, double GPA) {\\r\\r\\r\\r\\n    try {\\r\\r\\r\\r\\n    Class.forName(\"sun.jdbc.odbc.JdbcOdbcDriver\");\\r\\r\\r\\r\\n    conn = DriverManager.getConnection(\"jdbc:odbc:RegistrationDB\", \"\", \"\");\\r\\r\\r\\r\\n    String query = \"INSERT INTO Students (ID, Password, FirstName, LastName, Street, City, State, Zip, EMail, GPA)\" + \"VALUES (?,?,?,?,?,?,?,?,?,?)\";\\r\\r\\r\\r\\n    PreparedStatement ps = conn.prepareStatement(query);\\r\\r\\r\\r\\n    ps.setInt(1, id);\\r\\r\\r\\r\\n    ps.setString(2, pass);\\r\\r\\r\\r\\n    ps.setString(3, fname);\\r\\r\\r\\r\\n    ps.setString(4, lname);\\r\\r\\r\\r\\n    ps.setString(5, street);\\r\\r\\r\\r\\n    ps.setString(6, city);\\r\\r\\r\\r\\n    ps.setString(7, state);\\r\\r\\r\\r\\n    ps.setInt(8, Zip);\\r\\r\\r\\r\\n    ps.setString(9, Email);\\r\\r\\r\\r\\n    ps.setDouble(10, GPA);\\r\\r\\r\\r\\n    ps.executeUpdate();\\r\\r\\r\\r\\n    } catch (Exception e) {\\r\\r\\r\\r\\n        throw new RuntimeException(e);\\r\\r\\r\\r\\n    }\\r\\r\\r\\r\\n}\\r\\r\\r\\r\\n</code></pre>\\n<p>Throws the below exception:</p>\\n<pre><code>java.sql.SQLException: [Microsoft][ODBC Driver Manager] The specified DSN contains an     architecture mismatch between the Driver and Application\\r\\r\\r\\r\\n    sun.jdbc.odbc.JdbcOdbc.createSQLException(JdbcOdbc.java:6956)\\r\\r\\r\\r\\n    sun.jdbc.odbc.JdbcOdbc.standardError(JdbcOdbc.java:7113)\\r\\r\\r\\r\\n    sun.jdbc.odbc.JdbcOdbc.SQLDriverConnect(JdbcOdbc.java:3072)\\r\\r\\r\\r\\n    sun.jdbc.odbc.JdbcOdbcConnection.initialize(JdbcOdbcConnection.java:323)\\r\\r\\r\\r\\n    sun.jdbc.odbc.JdbcOdbcDriver.connect(JdbcOdbcDriver.java:174)\\r\\r\\r\\r\\n    java.sql.DriverManager.getConnection(DriverManager.java:579)\\r\\r\\r\\r\\n    java.sql.DriverManager.getConnection(DriverManager.java:221)\\r\\r\\r\\r\\n    business.studentDB.insertNewStudent(studentDB.java:53)\\r\\r\\r\\r\\n    controller.registercontrol.doPost(registercontrol.java:47)\\r\\r\\r\\r\\n    javax.servlet.http.HttpServlet.service(HttpServlet.java:641)\\r\\r\\r\\r\\n    javax.servlet.http.HttpServlet.service(HttpServlet.java:722)\\r\\r\\r\\r\\n    org.netbeans.modules.web.monitor.server.MonitorFilter.doFilter(MonitorFilter.java:393)\\r\\r\\r\\r\\n</code></pre>\\n<p>How is this caused and how can I solve it?</p>\\n</body></html>'"
      ]
     },
     "execution_count": 148,
     "metadata": {},
     "output_type": "execute_result"
    }
   ],
   "source": [
    "Extractor(sample).highlight(152, 13)"
   ]
  },
  {
   "cell_type": "code",
   "execution_count": 10,
   "metadata": {},
   "outputs": [
    {
     "name": "stderr",
     "output_type": "stream",
     "text": [
      "100%|██████████| 740551/740551 [18:06<00:00, 681.49it/s]\n"
     ]
    }
   ],
   "source": [
    "clean_bodies = []\n",
    "for body in tqdm(posts_df.Body):\n",
    "    clean_bodies.append(Extractor(body).text)\n",
    "\n",
    "posts_df['CleanBody'] = clean_bodies"
   ]
  }
 ],
 "metadata": {
  "kernelspec": {
   "display_name": "Python 3",
   "language": "python",
   "name": "python3"
  },
  "language_info": {
   "codemirror_mode": {
    "name": "ipython",
    "version": 3
   },
   "file_extension": ".py",
   "mimetype": "text/x-python",
   "name": "python",
   "nbconvert_exporter": "python",
   "pygments_lexer": "ipython3",
   "version": "3.6.2"
  }
 },
 "nbformat": 4,
 "nbformat_minor": 2
}
