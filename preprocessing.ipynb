{
 "cells": [
  {
   "cell_type": "markdown",
   "metadata": {},
   "source": [
    "# EPAM"
   ]
  },
  {
   "cell_type": "code",
   "execution_count": 1,
   "metadata": {},
   "outputs": [],
   "source": [
    "import re\n",
    "import warnings\n",
    "import pandas as pd\n",
    "\n",
    "from tqdm import tqdm\n",
    "from lazy import lazy\n",
    "from bs4 import BeautifulSoup\n",
    "from sklearn.base import BaseEstimator, TransformerMixin"
   ]
  },
  {
   "cell_type": "code",
   "execution_count": 2,
   "metadata": {},
   "outputs": [],
   "source": [
    "posts_file = 'NLP_dataset_final/Posts.csv'"
   ]
  },
  {
   "cell_type": "code",
   "execution_count": 3,
   "metadata": {},
   "outputs": [
    {
     "name": "stdout",
     "output_type": "stream",
     "text": [
      "CPU times: user 12.3 s, sys: 1.08 s, total: 13.4 s\n",
      "Wall time: 13.7 s\n"
     ]
    },
    {
     "name": "stderr",
     "output_type": "stream",
     "text": [
      "<string>:2: DtypeWarning: Columns (3,18,19) have mixed types. Specify dtype option on import or set low_memory=False.\n"
     ]
    }
   ],
   "source": [
    "%time posts_df = pd.read_csv(posts_file, encoding='ISO-8859-1')"
   ]
  },
  {
   "cell_type": "code",
   "execution_count": 4,
   "metadata": {},
   "outputs": [],
   "source": [
    "class Extractor:\n",
    "    def __init__(self, raw_text, sep='\\n', delete_code=True, \n",
    "                 code_replacer='CODE', tags={'p', 'pre'}):\n",
    "        self.raw_text = raw_text\n",
    "        self.sep = sep\n",
    "        self.delete_code = delete_code\n",
    "        self.code_replacer = code_replacer\n",
    "        self.tags = tags\n",
    "        \n",
    "        self._soup = BeautifulSoup(self.raw_text, 'lxml')\n",
    "    \n",
    "    @lazy\n",
    "    def text(self):\n",
    "        # `CODE` parts.\n",
    "        self._codes = []\n",
    "        for i, c_tag in enumerate(self._soup.find_all('code')):\n",
    "            self._codes.append(self._replace_unescape(c_tag.text))\n",
    "            if self.delete_code: c_tag.replaceWith(self.code_replacer)\n",
    "        \n",
    "        # Main part.\n",
    "        return self.sep.join(\n",
    "            self._delete_tag(self._replace_unescape(p_tag.text))\n",
    "            for p_tag in self._soup.find_all(self.tags)\n",
    "        )\n",
    "    \n",
    "    def find_pos(self, pos, len_):\n",
    "        before_cnum = self.text[:pos].split().count(self.code_replacer)\n",
    "        answer = self.text[pos: pos + len_]\n",
    "        cnum = answer.split().count(self.code_replacer)\n",
    "        raw_nice_text = self._replace_unescape(self.raw_text)\n",
    "        return raw_nice_text.find(answer if cnum == 0 else self._codes[before_cnum])\n",
    "    \n",
    "    def _delete_tag(self, text):\n",
    "        for tag in self.tags:\n",
    "            text = text.replace('<{}>'.format(tag), '')\n",
    "            text = text.replace('</{}>'.format(tag), '')\n",
    "        return text\n",
    "    \n",
    "    @staticmethod\n",
    "    def _replace_unescape(text, unescape_dict={'&lt;': '<', '&gt;': '>', '&amp;': '&', '\\r': ''}):\n",
    "        for k, v in unescape_dict.items():\n",
    "            text = text.replace(k, v)\n",
    "        for k, v in unescape_dict.items():\n",
    "            text = text.replace(k, v)\n",
    "        return text\n",
    "\n",
    "\n",
    "class Preprocessor(BaseEstimator):\n",
    "    def __init__(self):\n",
    "        # Switch warning off for `bs4`.\n",
    "        warnings.filterwarnings(\"ignore\", category=UserWarning, module='bs4')\n",
    "    \n",
    "    def transform(self, X):\n",
    "        return [Extractor(x).text for x in X]"
   ]
  },
  {
   "cell_type": "code",
   "execution_count": 5,
   "metadata": {},
   "outputs": [
    {
     "data": {
      "text/plain": [
       "'<p>You\\'re using the shorter form of lambda expressions, which only allow a single expressions.<br>\\r\\r\\r\\nYou need to the long form, which allows multiple statements.</p>\\r\\r\\r\\n\\r\\r\\r\\n<p>For example:</p>\\r\\r\\r\\n\\r\\r\\r\\n<pre><code>items.ForEach(item =&gt; {\\r\\r\\r\\n    if (item.Contains(\"I Care About\")) \\r\\r\\r\\n        whatICareAbout += item + \", \";\\r\\r\\r\\n});\\r\\r\\r\\n</code></pre>\\r\\r\\r\\n'"
      ]
     },
     "execution_count": 5,
     "metadata": {},
     "output_type": "execute_result"
    }
   ],
   "source": [
    "sample = posts_df.Body[310581]\n",
    "sample"
   ]
  },
  {
   "cell_type": "code",
   "execution_count": 6,
   "metadata": {},
   "outputs": [
    {
     "data": {
      "text/plain": [
       "\"You're using the shorter form of lambda expressions, which only allow a single expressions.\\nYou need to the long form, which allows multiple statements.\\nFor example:\\nCODE\""
      ]
     },
     "execution_count": 6,
     "metadata": {},
     "output_type": "execute_result"
    }
   ],
   "source": [
    "Extractor(sample).text"
   ]
  },
  {
   "cell_type": "code",
   "execution_count": 7,
   "metadata": {},
   "outputs": [
    {
     "data": {
      "text/plain": [
       "197"
      ]
     },
     "execution_count": 7,
     "metadata": {},
     "output_type": "execute_result"
    }
   ],
   "source": [
    "Extractor(sample).find_pos(166, 166 + 4)  # answer='CODE'"
   ]
  },
  {
   "cell_type": "code",
   "execution_count": 8,
   "metadata": {},
   "outputs": [
    {
     "name": "stderr",
     "output_type": "stream",
     "text": [
      "100%|██████████| 740551/740551 [10:49<00:00, 1140.53it/s]\n"
     ]
    }
   ],
   "source": [
    "clean_bodies = []\n",
    "for body in tqdm(posts_df.Body):\n",
    "    clean_bodies.append(Extractor(body).text)\n",
    "\n",
    "posts_df['CleanBody'] = clean_bodies"
   ]
  }
 ],
 "metadata": {
  "kernelspec": {
   "display_name": "Python 3",
   "language": "python",
   "name": "python3"
  },
  "language_info": {
   "codemirror_mode": {
    "name": "ipython",
    "version": 3
   },
   "file_extension": ".py",
   "mimetype": "text/x-python",
   "name": "python",
   "nbconvert_exporter": "python",
   "pygments_lexer": "ipython3",
   "version": "3.6.2"
  }
 },
 "nbformat": 4,
 "nbformat_minor": 2
}
