{
 "cells": [
  {
   "cell_type": "markdown",
   "metadata": {},
   "source": [
    "# EPAM"
   ]
  },
  {
   "cell_type": "code",
   "execution_count": 1,
   "metadata": {},
   "outputs": [],
   "source": [
    "import re\n",
    "import warnings\n",
    "import pandas as pd\n",
    "\n",
    "from bs4 import BeautifulSoup\n",
    "\n",
    "# Switch warning off for `bs4`.\n",
    "warnings.filterwarnings(\"ignore\", category=UserWarning, module='bs4')"
   ]
  },
  {
   "cell_type": "code",
   "execution_count": 2,
   "metadata": {},
   "outputs": [],
   "source": [
    "posts_file = 'NLP_dataset_final/Posts.csv'"
   ]
  },
  {
   "cell_type": "code",
   "execution_count": 3,
   "metadata": {},
   "outputs": [
    {
     "name": "stdout",
     "output_type": "stream",
     "text": [
      "CPU times: user 12.5 s, sys: 998 ms, total: 13.5 s\n",
      "Wall time: 14 s\n"
     ]
    },
    {
     "name": "stderr",
     "output_type": "stream",
     "text": [
      "<string>:2: DtypeWarning: Columns (3,18,19) have mixed types. Specify dtype option on import or set low_memory=False.\n"
     ]
    }
   ],
   "source": [
    "%time posts_df = pd.read_csv(posts_file, encoding='ISO-8859-1')"
   ]
  },
  {
   "cell_type": "code",
   "execution_count": 4,
   "metadata": {},
   "outputs": [],
   "source": [
    "def replace_unescape(text, unescape_dict={'&lt;': '<', '&gt;': '>', '&amp;': '&', '\\r': ''}):\n",
    "    for k, v in unescape_dict.items():\n",
    "        text = text.replace(k, v)\n",
    "    for k, v in unescape_dict.items():\n",
    "        text = text.replace(k, v)\n",
    "    return text\n",
    "\n",
    "\n",
    "def delete_tag(text, tags={'p'}):\n",
    "    for tag in tags:\n",
    "        text = text.replace(f'<{tag}>', '')\n",
    "        text = text.replace(f'</{tag}>', '')\n",
    "    return text\n",
    "\n",
    "\n",
    "def get_text(text, sep='\\n', delete_code=True, code_replacer='CODE'):\n",
    "    # Code.\n",
    "    soup = BeautifulSoup(text, 'lxml')\n",
    "    if delete_code:\n",
    "        for i, tag in enumerate(soup.find_all('code')):\n",
    "            tag.replaceWith(code_replacer.format(i))\n",
    "    \n",
    "    # Main part.\n",
    "    return sep.join(delete_tag(replace_unescape(p_tag.text)) for p_tag in soup.find_all('p'))"
   ]
  },
  {
   "cell_type": "code",
   "execution_count": 5,
   "metadata": {},
   "outputs": [
    {
     "data": {
      "text/plain": [
       "'<p>I have data  to export in an xml file.For this reason, I use a <code>DOMDocument</code> object with <code>utf-8</code> encoding.\\r\\r\\r\\r\\nAll special characters are encoded except apostrophe and double quotes.</p>\\r\\r\\r\\r\\n\\r\\r\\r\\r\\n<p><strong>Before export</strong> : <code>&lt;p&gt;\"don\\'t like\"&lt;/p&gt;</code></p>\\r\\r\\r\\r\\n\\r\\r\\r\\r\\n<p><strong>After export</strong> : <code>&amp;lt;p&amp;gt;don\\'t like &amp;lt;/p&amp;gt;</code> </p>\\r\\r\\r\\r\\n\\r\\r\\r\\r\\n<p><strong>My snippet</strong> :</p>\\r\\r\\r\\r\\n\\r\\r\\r\\r\\n<pre><code>$xml_file = new \\\\DOMDocument(\\'1.0\\', \\'utf-8\\');\\r\\r\\r\\r\\n$xml_file-&gt;formatOutput = true;\\r\\r\\r\\r\\n ....\\r\\r\\r\\r\\n\\r\\r\\r\\r\\n$xml_file-&gt;save($file_path);\\r\\r\\r\\r\\n</code></pre>\\r\\r\\r\\r\\n\\r\\r\\r\\r\\n<p>Any suggestions?</p>\\r\\r\\r\\r\\n'"
      ]
     },
     "execution_count": 5,
     "metadata": {},
     "output_type": "execute_result"
    }
   ],
   "source": [
    "sample = posts_df.Body[0]\n",
    "sample"
   ]
  },
  {
   "cell_type": "code",
   "execution_count": 6,
   "metadata": {},
   "outputs": [
    {
     "data": {
      "text/plain": [
       "'I have data  to export in an xml file.For this reason, I use a CODE object with CODE encoding.\\nAll special characters are encoded except apostrophe and double quotes.\\nBefore export : CODE\\nAfter export : CODE \\nMy snippet :\\nAny suggestions?'"
      ]
     },
     "execution_count": 6,
     "metadata": {},
     "output_type": "execute_result"
    }
   ],
   "source": [
    "get_text(sample)"
   ]
  }
 ],
 "metadata": {
  "kernelspec": {
   "display_name": "Python 3",
   "language": "python",
   "name": "python3"
  },
  "language_info": {
   "codemirror_mode": {
    "name": "ipython",
    "version": 3
   },
   "file_extension": ".py",
   "mimetype": "text/x-python",
   "name": "python",
   "nbconvert_exporter": "python",
   "pygments_lexer": "ipython3",
   "version": "3.6.2"
  }
 },
 "nbformat": 4,
 "nbformat_minor": 2
}
