{
 "cells": [
  {
   "cell_type": "markdown",
   "metadata": {},
   "source": [
    "# EPAM"
   ]
  },
  {
   "cell_type": "code",
   "execution_count": 42,
   "metadata": {},
   "outputs": [],
   "source": [
    "import re\n",
    "import warnings\n",
    "import pandas as pd\n",
    "\n",
    "from tqdm import tqdm\n",
    "from bs4 import BeautifulSoup\n",
    "\n",
    "# Switch warning off for `bs4`.\n",
    "warnings.filterwarnings(\"ignore\", category=UserWarning, module='bs4')"
   ]
  },
  {
   "cell_type": "code",
   "execution_count": 2,
   "metadata": {},
   "outputs": [],
   "source": [
    "posts_file = 'NLP_dataset_final/Posts.csv'"
   ]
  },
  {
   "cell_type": "code",
   "execution_count": 3,
   "metadata": {},
   "outputs": [
    {
     "name": "stdout",
     "output_type": "stream",
     "text": [
      "CPU times: user 12.5 s, sys: 998 ms, total: 13.5 s\n",
      "Wall time: 14 s\n"
     ]
    },
    {
     "name": "stderr",
     "output_type": "stream",
     "text": [
      "<string>:2: DtypeWarning: Columns (3,18,19) have mixed types. Specify dtype option on import or set low_memory=False.\n"
     ]
    }
   ],
   "source": [
    "%time posts_df = pd.read_csv(posts_file, encoding='ISO-8859-1')"
   ]
  },
  {
   "cell_type": "code",
   "execution_count": 44,
   "metadata": {},
   "outputs": [],
   "source": [
    "def replace_unescape(text, unescape_dict={'&lt;': '<', '&gt;': '>', '&amp;': '&', '\\r': ''}):\n",
    "    for k, v in unescape_dict.items():\n",
    "        text = text.replace(k, v)\n",
    "    for k, v in unescape_dict.items():\n",
    "        text = text.replace(k, v)\n",
    "    return text\n",
    "\n",
    "\n",
    "def delete_tag(text, tags):\n",
    "    for tag in tags:\n",
    "        text = text.replace('<{}>'.format(tag), '')\n",
    "        text = text.replace('</{}>'.format(tag), '')\n",
    "    return text\n",
    "\n",
    "\n",
    "def get_text(text, sep='\\n', delete_code=True, code_replacer='CODE', tags=['p', 'pre']):\n",
    "    # Code.\n",
    "    soup = BeautifulSoup(text, 'lxml')\n",
    "    if delete_code:\n",
    "        for i, tag in enumerate(soup.find_all('code')):\n",
    "            tag.replaceWith(code_replacer.format(i))\n",
    "    \n",
    "    # Main part.\n",
    "    return sep.join(\n",
    "        delete_tag(replace_unescape(p_tag.text), tags) \n",
    "        for p_tag in soup.find_all(tags)\n",
    "    )"
   ]
  },
  {
   "cell_type": "code",
   "execution_count": 52,
   "metadata": {},
   "outputs": [
    {
     "data": {
      "text/plain": [
       "'<p>You\\'re using the shorter form of lambda expressions, which only allow a single expressions.<br>\\r\\r\\r\\nYou need to the long form, which allows multiple statements.</p>\\r\\r\\r\\n\\r\\r\\r\\n<p>For example:</p>\\r\\r\\r\\n\\r\\r\\r\\n<pre><code>items.ForEach(item =&gt; {\\r\\r\\r\\n    if (item.Contains(\"I Care About\")) \\r\\r\\r\\n        whatICareAbout += item + \", \";\\r\\r\\r\\n});\\r\\r\\r\\n</code></pre>\\r\\r\\r\\n'"
      ]
     },
     "execution_count": 52,
     "metadata": {},
     "output_type": "execute_result"
    }
   ],
   "source": [
    "sample = posts_df.Body[310581]\n",
    "sample"
   ]
  },
  {
   "cell_type": "code",
   "execution_count": 53,
   "metadata": {},
   "outputs": [
    {
     "data": {
      "text/plain": [
       "\"You're using the shorter form of lambda expressions, which only allow a single expressions.\\nYou need to the long form, which allows multiple statements.\\nFor example:\\nCODE\""
      ]
     },
     "execution_count": 53,
     "metadata": {},
     "output_type": "execute_result"
    }
   ],
   "source": [
    "get_text(sample)"
   ]
  },
  {
   "cell_type": "code",
   "execution_count": 43,
   "metadata": {},
   "outputs": [
    {
     "name": "stderr",
     "output_type": "stream",
     "text": [
      "100%|██████████| 740551/740551 [08:03<00:00, 1532.75it/s]\n"
     ]
    }
   ],
   "source": [
    "clean_bodies = []\n",
    "for body in tqdm(posts_df.Body):\n",
    "    clean_bodies.append(get_text(body))\n",
    "\n",
    "posts_df['CleanBody'] = clean_bodies"
   ]
  }
 ],
 "metadata": {
  "kernelspec": {
   "display_name": "Python 3",
   "language": "python",
   "name": "python3"
  },
  "language_info": {
   "codemirror_mode": {
    "name": "ipython",
    "version": 3
   },
   "file_extension": ".py",
   "mimetype": "text/x-python",
   "name": "python",
   "nbconvert_exporter": "python",
   "pygments_lexer": "ipython3",
   "version": "3.6.2"
  }
 },
 "nbformat": 4,
 "nbformat_minor": 2
}
